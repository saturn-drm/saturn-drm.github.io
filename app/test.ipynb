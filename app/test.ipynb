{
 "cells": [
  {
   "cell_type": "code",
   "execution_count": 1,
   "source": [
    "from bs4 import BeautifulSoup"
   ],
   "outputs": [],
   "metadata": {}
  },
  {
   "cell_type": "code",
   "execution_count": 21,
   "source": [
    "html = '''\n",
    "       <div id=\"post\"><p><img src=\"../../assets/a.jpg\"/></p></div>\n",
    "       <div id=\"post\"><p><img src=\"../../assets/b.jpg\"/></p></div>\n",
    "       <div id=\"post\"><p><img src=\"../../assets/c.jpg\"/></p></div>\n",
    "       '''\n",
    "soup = BeautifulSoup(html, 'html.parser')"
   ],
   "outputs": [],
   "metadata": {}
  },
  {
   "cell_type": "code",
   "execution_count": 22,
   "source": [
    "imglist = soup.select('#post img')"
   ],
   "outputs": [],
   "metadata": {}
  },
  {
   "cell_type": "code",
   "execution_count": 23,
   "source": [
    "for imgtag in imglist:\n",
    "    orisrc = imgtag['src']\n",
    "    pathlist = orisrc.split('/')\n",
    "    imgtag['src'] = '/' + '/'.join(pathlist[pathlist.index('assets'):])"
   ],
   "outputs": [],
   "metadata": {}
  },
  {
   "cell_type": "code",
   "execution_count": 24,
   "source": [
    "soup"
   ],
   "outputs": [
    {
     "output_type": "execute_result",
     "data": {
      "text/plain": [
       "\n",
       "<div id=\"post\"><p><img src=\"/assets/a.jpg\"/></p></div>\n",
       "<div id=\"post\"><p><img src=\"/assets/b.jpg\"/></p></div>\n",
       "<div id=\"post\"><p><img src=\"/assets/c.jpg\"/></p></div>"
      ]
     },
     "metadata": {},
     "execution_count": 24
    }
   ],
   "metadata": {}
  },
  {
   "cell_type": "code",
   "execution_count": null,
   "source": [],
   "outputs": [],
   "metadata": {}
  }
 ],
 "metadata": {
  "orig_nbformat": 4,
  "language_info": {
   "name": "python",
   "version": "3.9.6",
   "mimetype": "text/x-python",
   "codemirror_mode": {
    "name": "ipython",
    "version": 3
   },
   "pygments_lexer": "ipython3",
   "nbconvert_exporter": "python",
   "file_extension": ".py"
  },
  "kernelspec": {
   "name": "python3",
   "display_name": "Python 3.9.6 64-bit"
  },
  "interpreter": {
   "hash": "aee8b7b246df8f9039afb4144a1f6fd8d2ca17a180786b69acc140d282b71a49"
  }
 },
 "nbformat": 4,
 "nbformat_minor": 2
}